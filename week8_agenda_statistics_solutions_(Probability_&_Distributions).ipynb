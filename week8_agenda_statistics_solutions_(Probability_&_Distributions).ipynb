{
  "nbformat": 4,
  "nbformat_minor": 0,
  "metadata": {
    "kernelspec": {
      "display_name": "Python 3",
      "language": "python",
      "name": "python3"
    },
    "language_info": {
      "codemirror_mode": {
        "name": "ipython",
        "version": 3
      },
      "file_extension": ".py",
      "mimetype": "text/x-python",
      "name": "python",
      "nbconvert_exporter": "python",
      "pygments_lexer": "ipython3",
      "version": "3.7.6"
    },
    "colab": {
      "name": "week8-agenda-statistics solutions (Probability & Distributions).ipynb",
      "provenance": []
    }
  },
  "cells": [
    {
      "cell_type": "markdown",
      "metadata": {
        "id": "OH4TqkglbbJ_"
      },
      "source": [
        "# Binomial Distribution"
      ]
    },
    {
      "cell_type": "markdown",
      "metadata": {
        "id": "-gO-pcCRbbKC"
      },
      "source": [
        "### Exercise: Checking If a Random Variable Follows a Binomial Distribution"
      ]
    },
    {
      "cell_type": "markdown",
      "metadata": {
        "id": "pts8_t7AbbKG"
      },
      "source": [
        "In this exercise, we will practice how to verify if a random variable follows a binomial distribution. We will also create a random variable using scipy.stats and plot the distribution. This will be a mostly conceptual exercise.\n",
        "\n",
        "Here, we will check if the random variable, Z: number of defective auto parts in a 12-box pack, follows a binomial distribution (remember that we consider 4% of the auto parts are defective). Follow these steps to complete this exercise:"
      ]
    },
    {
      "cell_type": "markdown",
      "metadata": {
        "id": "huz8z3KPbbKI"
      },
      "source": [
        "1.Import NumPy, Matplotlib, and scipy.stats following the usual conventions:"
      ]
    },
    {
      "cell_type": "code",
      "metadata": {
        "id": "WTyA5sDFbbKK"
      },
      "source": [
        "import numpy as np\n",
        "from scipy import stats\n",
        "import matplotlib.pyplot as plt"
      ],
      "execution_count": null,
      "outputs": []
    },
    {
      "cell_type": "markdown",
      "metadata": {
        "id": "OE-2lkhjbbKL"
      },
      "source": [
        "2.Try to conceptually check if Z fulfills the properties given for a binomial random variable:"
      ]
    },
    {
      "cell_type": "markdown",
      "metadata": {
        "id": "TUwc35IPeG9U"
      },
      "source": [
        "a. Durum 1: Her bir otomobil parçası için, kusurlu veya iyi olmak üzere yalnızca iki olası sonuç vardır. Kusurlu parçalarla ilgilendiğimiz için, bu sonuç, sabit bir 0.04 (% 4) olasılıkla başarı olarak kabul edilebilir.\n",
        "b. Durum 2: Kutu başına parça sayısı 12'de sabitlenmiştir, bu nedenle deney kutu başına sabit sayıda yapılmıştır.\n",
        "c. Durum 3: Makine rasgele ortalama %4 kusurlu parça ürettiği için kusurlu parçaların birbirleri arasında hiçbir ilişkisi olmadığını varsaydık."
      ]
    },
    {
      "cell_type": "code",
      "metadata": {
        "id": "zhnsdrIAbbKM"
      },
      "source": [
        "#Just discuss, no code."
      ],
      "execution_count": null,
      "outputs": []
    },
    {
      "cell_type": "markdown",
      "metadata": {
        "id": "f7cBuu3HbbKP"
      },
      "source": [
        "3.Determine the p and n parameters for the distributions of this variable, that is, p = 0.04 and n = 12."
      ]
    },
    {
      "cell_type": "code",
      "metadata": {
        "id": "8JR0jAYOiklG"
      },
      "source": [
        "p = 0.04\n",
        "n = 12"
      ],
      "execution_count": null,
      "outputs": []
    },
    {
      "cell_type": "markdown",
      "metadata": {
        "id": "HIWhAFXRbbKR"
      },
      "source": [
        "4.Use the theoretical formula with the former parameters to get the exact theoretical probability of getting exactly one defective piece per box (using x = 1): "
      ]
    },
    {
      "cell_type": "markdown",
      "metadata": {
        "id": "ZOL_AO7cm9eT"
      },
      "source": [
        "P(x = 1) = 0.306"
      ]
    },
    {
      "cell_type": "code",
      "metadata": {
        "id": "KQdj3OuQbbKT"
      },
      "source": [
        "#Use formula to calculate it."
      ],
      "execution_count": null,
      "outputs": []
    },
    {
      "cell_type": "markdown",
      "metadata": {
        "id": "MEpM519hbbKV"
      },
      "source": [
        "5.Use the scipy.stats module to produce an instance of the Z random variable. Name it Z_rv:"
      ]
    },
    {
      "cell_type": "code",
      "metadata": {
        "id": "SL3qiTPhbbKW"
      },
      "source": [
        "parts_per_box = 12\n",
        "Z_rv = stats.binom\\\n",
        "(n = parts_per_box,\\\n",
        "p = 0.04 # probability of defective piece (success)\n",
        ")"
      ],
      "execution_count": null,
      "outputs": []
    },
    {
      "cell_type": "markdown",
      "metadata": {
        "id": "5s7ODAHebbKX"
      },
      "source": [
        "6.Plot the probability mass function of Z:"
      ]
    },
    {
      "cell_type": "code",
      "metadata": {
        "colab": {
          "base_uri": "https://localhost:8080/",
          "height": 265
        },
        "id": "5h_QcDOCbbKY",
        "outputId": "d5d83939-cbf7-4703-82e5-e496dac81103"
      },
      "source": [
        "z_possible_values = np.arange(0, parts_per_box + 1)\n",
        "Z_probs = Z_rv.pmf(z_possible_values)\n",
        "fig, ax = plt.subplots()\n",
        "ax.bar(z_possible_values, Z_probs)\n",
        "ax.set_xticks(z_possible_values)\n",
        "ax.grid();"
      ],
      "execution_count": null,
      "outputs": [
        {
          "output_type": "display_data",
          "data": {
            "image/png": "[encoded data removed]",
            "text/plain": [
              "<Figure size 432x288 with 1 Axes>"
            ]
          },
          "metadata": {
            "tags": [],
            "needs_background": "light"
          }
        }
      ]
    },
    {
      "cell_type": "markdown",
      "metadata": {
        "id": "oYPESn0XbbKZ"
      },
      "source": [
        "# Normal Distribution"
      ]
    },
    {
      "cell_type": "markdown",
      "metadata": {
        "id": "QV4N1IqXbbKZ"
      },
      "source": [
        "### Exercise: Using the Normal Distribution in Education"
      ]
    },
    {
      "cell_type": "markdown",
      "metadata": {
        "id": "yDVJWgvSbbKa"
      },
      "source": [
        "In this exercise, we'll use a normal distribution object from scipy.stats and the cdf and its inverse, ppf, to answer questions about education.\n",
        "\n",
        "In psychometrics and education, it is a well-known fact that many variables relevant to education policy are normally distributed. For instance, scores in standardized mathematics tests follow a normal distribution. In this exercise, we'll explore this phenomenon: in a certain country, high school students take a standardized mathematics test whose scores follow a normal distribution with the following parameters: mean = 100, standard deviation = 15. Follow these steps to complete this exercise:"
      ]
    },
    {
      "cell_type": "markdown",
      "metadata": {
        "id": "DDbQ2rfibbKa"
      },
      "source": [
        "1.Import NumPy, Matplotlib, and scipy.stats following the usual conventions:"
      ]
    },
    {
      "cell_type": "code",
      "metadata": {
        "id": "GOosOib4bbKb"
      },
      "source": [
        "import numpy as np\n",
        "import scipy.stats as stats\n",
        "import matplotlib.pyplot as plt"
      ],
      "execution_count": null,
      "outputs": []
    },
    {
      "cell_type": "markdown",
      "metadata": {
        "id": "BMK-7YmTbbKb"
      },
      "source": [
        "2.Use the scipy.stats module to produce an instance of a normally distributed random variable, named X_rv, with mean = 100 and standard deviation = 15:"
      ]
    },
    {
      "cell_type": "code",
      "metadata": {
        "id": "74Xet8bnbbKb"
      },
      "source": [
        "# producing the normal distribution\n",
        "X_mean = 100\n",
        "X_sd = 15\n",
        "# create the random variable\n",
        "X_rv = stats.norm(loc = X_mean, scale = X_sd)"
      ],
      "execution_count": null,
      "outputs": []
    },
    {
      "cell_type": "markdown",
      "metadata": {
        "id": "g_i2djMubbKc"
      },
      "source": [
        "3.Plot the probability distribution of X:"
      ]
    },
    {
      "cell_type": "code",
      "metadata": {
        "colab": {
          "base_uri": "https://localhost:8080/",
          "height": 265
        },
        "id": "GhgiVG8wbbKc",
        "outputId": "bab53a3c-4e8d-4f28-ab12-e8907b282f73"
      },
      "source": [
        "x_values = np.linspace(X_mean - 4 * X_sd, X_mean + 4 * X_sd)\n",
        "y_values = X_rv.pdf(x_values)\n",
        "plt.plot(x_values, y_values, lw=2)\n",
        "plt.grid();"
      ],
      "execution_count": null,
      "outputs": [
        {
          "output_type": "display_data",
          "data": {
            "image/png": "[encoded data removed]",
            "text/plain": [
              "<Figure size 432x288 with 1 Axes>"
            ]
          },
          "metadata": {
            "tags": [],
            "needs_background": "light"
          }
        }
      ]
    },
    {
      "cell_type": "markdown",
      "metadata": {
        "id": "g8-u7n0obbKd"
      },
      "source": [
        "4.The Ministry of Education has decided that the minimum score for someone to be considered competent in mathematics is 80. Use the cdf method to calculate the proportion of students that will get a score above that score:"
      ]
    },
    {
      "cell_type": "code",
      "metadata": {
        "colab": {
          "base_uri": "https://localhost:8080/"
        },
        "id": "mDvYZN_CbbKd",
        "outputId": "1a8a7417-0f92-483a-c93b-7358298ad75a"
      },
      "source": [
        "Prob_X_gt_80 = X_rv.cdf(np.Inf) - X_rv.cdf(80)\n",
        "print(f'Prob(X >= 80): {Prob_X_gt_80:0.5f} \\\n",
        "(or {100*Prob_X_gt_80:0.2f}%)')"
      ],
      "execution_count": null,
      "outputs": [
        {
          "output_type": "stream",
          "text": [
            "Prob(X >= 80): 0.90879 (or 90.88%)\n"
          ],
          "name": "stdout"
        }
      ]
    },
    {
      "cell_type": "markdown",
      "metadata": {
        "id": "8P4Z23aPbbKd"
      },
      "source": [
        "5.A very selective university wants to set very high standards for high school students that are admitted to their programs. The policy of the university is to only admit students with mathematics scores in the top 2% of the population. Use the ppf method (which is essentially the inverse function of the cdf method) with an argument of 1 - 0.02 = 0.98 to get the cut-off score for admission:"
      ]
    },
    {
      "cell_type": "code",
      "metadata": {
        "colab": {
          "base_uri": "https://localhost:8080/"
        },
        "id": "_MEY4tSfbbKe",
        "outputId": "ccf78f17-b695-435b-fbe9-4a8205eaf253"
      },
      "source": [
        "proportion_of_admitted = 0.02\n",
        "cut_off = X_rv.ppf(1-proportion_of_admitted)\n",
        "print(f'To admit the top {100*proportion_of_admitted:0.0f}%, \\\n",
        "the cut-off score should be {cut_off:0.1f}')\n",
        "top_percents = np.arange(0.9, 1, 0.01)"
      ],
      "execution_count": null,
      "outputs": [
        {
          "output_type": "stream",
          "text": [
            "To admit the top 2%, the cut-off score should be 130.8\n"
          ],
          "name": "stdout"
        }
      ]
    },
    {
      "cell_type": "markdown",
      "metadata": {
        "id": "ZhOdaQGmbbKe"
      },
      "source": [
        "In this exercise, we used a normal distribution and the cdf and ppf methods to answer real-world questions about education policy."
      ]
    }
  ]
}